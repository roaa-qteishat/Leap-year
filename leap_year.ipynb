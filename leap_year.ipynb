{
  "nbformat": 4,
  "nbformat_minor": 0,
  "metadata": {
    "colab": {
      "name": "leap year.ipynb",
      "provenance": [],
      "collapsed_sections": [],
      "authorship_tag": "ABX9TyPBXF9t3DCuzQ5wrV6V6LAI",
      "include_colab_link": true
    },
    "kernelspec": {
      "name": "python3",
      "display_name": "Python 3"
    },
    "language_info": {
      "name": "python"
    }
  },
  "cells": [
    {
      "cell_type": "markdown",
      "metadata": {
        "id": "view-in-github",
        "colab_type": "text"
      },
      "source": [
        "<a href=\"https://colab.research.google.com/github/roaa-qteishat/Leap-year/blob/main/leap_year.ipynb\" target=\"_parent\"><img src=\"https://colab.research.google.com/assets/colab-badge.svg\" alt=\"Open In Colab\"/></a>"
      ]
    },
    {
      "cell_type": "markdown",
      "source": [
        "You need to make a program to take a year asinput and output \"Leap Year\" if it's a leap year, and \"Not a leap year\"if it's not.\n",
        "\n",
        "to check whether a year is a leap year or not, you need to check the following:\n",
        "\n",
        "1)If the year is evenly divisible by 4,go to step2.Otherwise,the year is Not leap year.\n",
        "\n",
        "2)If the year is evenly divisible by 100,go tostep 3. Otherwise,the year is a leap year.\n",
        "\n",
        "3)if the year is evenly divisible by 400,the year is a leap year.Otherwise,it is not a leap year."
      ],
      "metadata": {
        "id": "EN4ysoMQ01oj"
      }
    },
    {
      "cell_type": "code",
      "execution_count": 1,
      "metadata": {
        "colab": {
          "base_uri": "https://localhost:8080/"
        },
        "id": "1lQ5dYkUkHQy",
        "outputId": "b75fc747-fc3c-412e-ce8c-88c08156673e"
      },
      "outputs": [
        {
          "output_type": "stream",
          "name": "stdout",
          "text": [
            "please enter year:2000\n",
            "Leap year\n"
          ]
        }
      ],
      "source": [
        "year=int(input(\"please enter year:\" ))\n",
        "if year%4 == 0:\n",
        "  if year%100 == 0:\n",
        "    if year%400 == 0:\n",
        "      print(\"Leap year\")\n",
        "    else:\n",
        "      print(\"Not a Leap year\")\n",
        "  else  :\n",
        "    print(\"Leap year\")\n",
        "else :\n",
        "  print(\"Not a leap year\")"
      ]
    }
  ]
}